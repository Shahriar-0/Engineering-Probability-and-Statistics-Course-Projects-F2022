{
 "cells": [
  {
   "cell_type": "markdown",
   "metadata": {},
   "source": [
    "# 1. Probability Limit Definition\n",
    "\n",
    "According to the probability limit definition:\n",
    "\n",
    "$$\n",
    "P(A) = \\lim_{n \\to +\\infty} \\frac{n_A}{n}\n",
    "$$\n",
    "\n",
    "We want to examine the validity of this relationship practically.\n",
    "This measurement is only intuitive and does not prove any objectivity (unreliable);\n",
    "But the purpose is to perform statistical experiments using the \n",
    "R\n",
    "language and get acquainted with this language.\n",
    "\n",
    "Consider this example:\n",
    "We flip a coin and roll a dice and want to calculate the probability that the coin shows heads and the dice shows an even number. \n",
    "\n",
    "We know that each dice has 6 faces and the coin has two possible outcomes of heads or tails. Based on the multiplication principle, the number of possible outcomes for flipping a coin and rolling a dice is equal to $6 \\times 2 = 12$.\n",
    "The set of our desired outcomes will be:\n",
    "$$\\{(h,2),(h,4),(h,6)\\}$$\n",
    "Assuming the experiment is fair and the dice and coin are valid, the probabilities of each dice face and coin flip (heads or tails) appearing are equal. Therefore, the probability of observing each of the possible pairs is also equal. Hence, we can use the classical probability definition and conclude that the probability of observing the desired outcome is \n",
    "$\\frac{3}{12} = \\frac{1}{4}$\n",
    "\n",
    "Now we try to estimate this probability using the probability limit definition. First we need to prepare the sample space for this example:"
   ]
  },
  {
   "cell_type": "code",
   "execution_count": 57,
   "metadata": {
    "vscode": {
     "languageId": "r"
    }
   },
   "outputs": [],
   "source": [
    "dice_possible_observations = seq(1, 6)\n",
    "dice_observation_chance_to_appear = rep(1/6, 6)"
   ]
  },
  {
   "cell_type": "code",
   "execution_count": 58,
   "metadata": {
    "vscode": {
     "languageId": "r"
    }
   },
   "outputs": [],
   "source": [
    "coin_possible_observations = seq(1, 2)\n",
    "coin_observation_chance_to_appear = rep(1/2, 2)"
   ]
  },
  {
   "cell_type": "markdown",
   "metadata": {},
   "source": [
    "<a href=\"https://www.rdocumentation.org/packages/base/versions/3.6.2/topics/seq\">Read more about `seq`</a>  \n",
    "<a href=\"https://www.rdocumentation.org/packages/base/versions/3.6.2/topics/rep\">Read more about `rep`</a>"
   ]
  },
  {
   "cell_type": "markdown",
   "metadata": {},
   "source": [
    "<h2> Sampling </h2> <div> The sampling method is a process by which a subset of the statistical population is prepared. This is done in order to identify or estimate the parameters of the statistical population. To perform sampling in R, we use the sample command.<br> For more study, refer to <a href=\"https://www.rdocumentation.org/packages/base/versions/3.6.2/topics/sample\">this</a> link. </div>"
   ]
  },
  {
   "cell_type": "code",
   "execution_count": 59,
   "metadata": {
    "vscode": {
     "languageId": "r"
    }
   },
   "outputs": [],
   "source": [
    "sample_of_n_dice <- function(n) {\n",
    "    return(\n",
    "        sample(\n",
    "            x = dice_possible_observations,\n",
    "            size = n,\n",
    "            replace = TRUE,\n",
    "            prob = dice_observation_chance_to_appear\n",
    "        )\n",
    "    )\n",
    "}\n",
    "\n",
    "# 1 means the coin shows the head side and \n",
    "# 2 means it shows the tail side.\n",
    "sample_of_n_coin <- function(n) {\n",
    "    return(\n",
    "        sample(\n",
    "            x = coin_possible_observations,\n",
    "            size = n,\n",
    "            replace = TRUE,\n",
    "            prob = coin_observation_chance_to_appear\n",
    "        )\n",
    "    )\n",
    "}\n"
   ]
  },
  {
   "cell_type": "code",
   "execution_count": 60,
   "metadata": {
    "vscode": {
     "languageId": "r"
    }
   },
   "outputs": [],
   "source": [
    "flip_coin_roll_dice <- function(n) {\n",
    "    return(\n",
    "        c(\n",
    "            sample_of_n_coin(n),\n",
    "            sample_of_n_dice(n)\n",
    "        )\n",
    "    )\n",
    "}\n"
   ]
  },
  {
   "cell_type": "markdown",
   "metadata": {},
   "source": [
    "In the next two blocks, we simulate the experiment process."
   ]
  },
  {
   "cell_type": "code",
   "execution_count": 61,
   "metadata": {
    "vscode": {
     "languageId": "r"
    }
   },
   "outputs": [],
   "source": [
    "rownames <- seq(1, 6)\n",
    "colnames <- seq(1, 2)\n",
    "\n",
    "observations1000 <- matrix(\n",
    "    0, # the data elemetns\n",
    "    nrow = 6,\n",
    "    ncol = 2,\n",
    "    byrow = TRUE,\n",
    "    dimnames = list(rownames, colnames)\n",
    ")\n",
    "\n",
    "observations100 <- matrix(\n",
    "    0, # the data elemetns\n",
    "    nrow = 6,\n",
    "    ncol = 2,\n",
    "    byrow = TRUE,\n",
    "    dimnames = list(rownames, colnames)\n",
    ")"
   ]
  },
  {
   "cell_type": "markdown",
   "metadata": {},
   "source": [
    "[Read more about matrices](https://www.r-tutor.com/r-introduction/matrix)"
   ]
  },
  {
   "cell_type": "code",
   "execution_count": 62,
   "metadata": {
    "vscode": {
     "languageId": "r"
    }
   },
   "outputs": [
    {
     "name": "stdout",
     "output_type": "stream",
     "text": [
      "   1  2\n",
      "1 81 91\n",
      "2 83 92\n",
      "3 84 88\n",
      "4 94 74\n",
      "5 67 86\n",
      "6 80 80\n",
      "------------------\n",
      "   1  2\n",
      "1  7  4\n",
      "2  8 12\n",
      "3 12  3\n",
      "4 15  8\n",
      "5  8 12\n",
      "6  7  4\n"
     ]
    }
   ],
   "source": [
    "# At the beginning of each experiment, we need to reset elements.\n",
    "observations1000[, 1] <- 0\n",
    "observations1000[, 2] <- 0\n",
    "\n",
    "for (i in 1:1000) {\n",
    "  obs <- flip_coin_roll_dice(1)\n",
    "  observations1000[obs[2], obs[1]] <- observations1000[obs[2], obs[1]] + 1\n",
    "}\n",
    "\n",
    "\n",
    "for (i in 1:100) {\n",
    "  obs <- flip_coin_roll_dice(1)\n",
    "  observations100[obs[2], obs[1]] <- observations100[obs[2], obs[1]] + 1\n",
    "}\n",
    "\n",
    "print(observations1000)\n",
    "cat(\"------------------\", sep=\"\\n\")\n",
    "print(observations100)\n"
   ]
  },
  {
   "cell_type": "code",
   "execution_count": 63,
   "metadata": {
    "vscode": {
     "languageId": "r"
    }
   },
   "outputs": [
    {
     "name": "stdout",
     "output_type": "stream",
     "text": [
      "[1] 0.3\n",
      "[1] 0.257\n"
     ]
    }
   ],
   "source": [
    "# Now we need to calculate the probability of observation [2,4,6] (even roll)\n",
    "# and [1] (head) based on `observations`:\n",
    "result <- (observations100[2, 1] + observations100[4, 1] + observations100[6, 1]) / sum(observations100)\n",
    "print(result)\n",
    "result <- (observations1000[2, 1] + observations1000[4, 1] + observations1000[6, 1]) / sum(observations1000)\n",
    "print(result)\n"
   ]
  },
  {
   "cell_type": "markdown",
   "metadata": {},
   "source": [
    "<div> Conduct the main loop of the experiment with 100 and 100,000 iterations. Analyze these observations. In this analysis, in addition to what you deem appropriate, you must also examine the following: <br> <li> Given the actual probability value that we calculated theoretically at the beginning of this section, compare the accuracy of this experiment with a sample size of 100 versus a sample size of 100,000. The reason for this difference is important.</li> \n",
    "Answer: 100,000 iterations is closer to the calculated theoretical value, and the reason is that as the number of samples increases, the variance of the population decreases.\n",
    "</div>"
   ]
  },
  {
   "cell_type": "markdown",
   "metadata": {},
   "source": [
    "<font color='yellow'  background-color: blue>\n",
    "Note) Loops are used in the codes provided in this section. You should be careful that using loops is not desirable in general and should be avoided. In this section, this point is ignored for the purpose of getting acquainted with the R language, but from the next section, the use of this loop is avoided as much as possible.\n",
    "\n",
    "The reason for this avoidance is that statistical calculations and the like can be done in parallel in R (and Python) but when loops are used, this advantage is lost and as a result, program runtimes become very long. Alternative methods that you will become familiar with later are the use of data frames and matrices and operators specific to them. Loops should only be used when the desired simulation is truly time dependent and the calculations of each step require the previous step. In the next exercise section, you are not allowed to use loops and must use a function for iterative calculations.\n",
    "</font>"
   ]
  },
  {
   "cell_type": "markdown",
   "metadata": {},
   "source": [
    "# 2. Birthday Problem\n",
    "\n",
    "As discussed in class, the birthday problem asks for the probability that in a set of n people selected randomly, at least two people share the same birthday. \n",
    "\n",
    "Interestingly, unlike perception, the probability of a coincident birthday in a group of 23 people is over 50%!\n",
    "\n",
    "Below we calculate this probability using R.\n",
    "\n",
    "First, solve this problem theoretically for k people. (What is the probability that two people out of k have the same birthday?) There is no need to write a proof here.\n",
    "\n",
    "The calculations are done in R in the cell below."
   ]
  },
  {
   "cell_type": "code",
   "execution_count": 64,
   "metadata": {
    "vscode": {
     "languageId": "r"
    }
   },
   "outputs": [
    {
     "name": "stdout",
     "output_type": "stream",
     "text": [
      "[1] 0.5072972\n"
     ]
    }
   ],
   "source": [
    "k <- 23\n",
    "print(1 - prod((365 - k + 1):365) / 365^k)\n"
   ]
  },
  {
   "cell_type": "markdown",
   "metadata": {},
   "source": [
    "As you can see, for 23 people the probability of two people having the same birthday is over 50%.\n",
    "\n",
    "In R, some helper functions are defined for such well-known problems.\n",
    "Research the pbirthday and qbirthday functions and explain these two functions.\n",
    "\n",
    "Using the above two functions, find the probability that among 23 people, at least 3 people have the same birthday."
   ]
  },
  {
   "cell_type": "code",
   "execution_count": 68,
   "metadata": {
    "vscode": {
     "languageId": "r"
    }
   },
   "outputs": [
    {
     "data": {
      "text/html": [
       "0.0144154061550243"
      ],
      "text/latex": [
       "0.0144154061550243"
      ],
      "text/markdown": [
       "0.0144154061550243"
      ],
      "text/plain": [
       "[1] 0.01441541"
      ]
     },
     "metadata": {},
     "output_type": "display_data"
    },
    {
     "data": {
      "text/html": [
       "0.507297234323985"
      ],
      "text/latex": [
       "0.507297234323985"
      ],
      "text/markdown": [
       "0.507297234323985"
      ],
      "text/plain": [
       "[1] 0.5072972"
      ]
     },
     "metadata": {},
     "output_type": "display_data"
    }
   ],
   "source": [
    "pbirthday(23, coincident = 3)\n",
    "pbirthday(23, coincident = 2)"
   ]
  },
  {
   "cell_type": "markdown",
   "metadata": {},
   "source": [
    "Now using the above functions, find the number of people required so that the probability of at least 4 people having the same birthday is greater than 0.8."
   ]
  },
  {
   "cell_type": "code",
   "execution_count": 66,
   "metadata": {
    "vscode": {
     "languageId": "r"
    }
   },
   "outputs": [
    {
     "data": {
      "text/html": [
       "237"
      ],
      "text/latex": [
       "237"
      ],
      "text/markdown": [
       "237"
      ],
      "text/plain": [
       "[1] 237"
      ]
     },
     "metadata": {},
     "output_type": "display_data"
    }
   ],
   "source": [
    "qbirthday(coincident = 4, prob = 0.8)"
   ]
  },
  {
   "cell_type": "markdown",
   "metadata": {},
   "source": [
    "[Read more about pbirthday](https://www.rdocumentation.org/packages/TeachingDemos/versions/2.10/topics/pbirthday)  \n",
    "[Read more about qbirthday](https://www.rdocumentation.org/packages/TeachingDemos/versions/2.10/topics/qbirthday) "
   ]
  },
  {
   "cell_type": "markdown",
   "metadata": {},
   "source": [
    "For better understanding of this problem, sampling can be used.\n",
    "You got acquainted with the sample function in the previous section.\n",
    "Write a code snippet that generates a sample of 23 birthdays in 365 days of the year."
   ]
  },
  {
   "cell_type": "markdown",
   "metadata": {},
   "source": [
    "Now repeat this experiment 10,000 times and obtain the probability that at least 2 people have a common birthday.\n",
    "\n",
    "Note that you cannot use for loops in this section!\n",
    "\n",
    "Hint: You can use tabulate to find the number of identical elements in a set."
   ]
  },
  {
   "cell_type": "code",
   "execution_count": 67,
   "metadata": {
    "vscode": {
     "languageId": "r"
    }
   },
   "outputs": [
    {
     "data": {
      "text/html": [
       "0.5122"
      ],
      "text/latex": [
       "0.5122"
      ],
      "text/markdown": [
       "0.5122"
      ],
      "text/plain": [
       "[1] 0.5122"
      ]
     },
     "metadata": {},
     "output_type": "display_data"
    }
   ],
   "source": [
    "n <- 23\n",
    "N <- 10^4\n",
    "r <- replicate(N, max(tabulate(sample(1:365, n, replace = TRUE))))\n",
    "sum(r >= 2) / N\n"
   ]
  }
 ],
 "metadata": {
  "kernelspec": {
   "display_name": "R",
   "language": "R",
   "name": "ir"
  },
  "language_info": {
   "codemirror_mode": "r",
   "file_extension": ".r",
   "mimetype": "text/x-r-source",
   "name": "R",
   "pygments_lexer": "r",
   "version": "4.3.0"
  }
 },
 "nbformat": 4,
 "nbformat_minor": 2
}
